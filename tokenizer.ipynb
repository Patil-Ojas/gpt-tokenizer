{
 "cells": [
  {
   "cell_type": "code",
   "execution_count": 2,
   "metadata": {},
   "outputs": [],
   "source": [
    "# Tokenization is the process of converting string into tokens and vice versa\n",
    "# tokenization is pretty random. Egg, egg and EGG. all have different tokens\n",
    "\n",
    "# english sentences are easy to break down into tokens, that is why gpts do better on english related languages than japanese or hindi, which will a fk tonna more tokens\n",
    "\n",
    "# gpt 2 sucks at coding cuz all indentation are separately tokenized\n",
    "# https://tiktokenizer.vercel.app/\n",
    "\n",
    "# c100k tokenizer -> gpt4 tokenizer about halfs the number of tokens compared to gpt2\n",
    "\n",
    "# thus we can have roughly twice as much text for context. this also causes our embedding table to get larger. gotta find a tradeoff, or sweet spot\n",
    "\n",
    "# the design of the tokenizer is a substantial reason for the improvement in the gpt coding skills"
   ]
  },
  {
   "cell_type": "code",
   "execution_count": 1,
   "metadata": {},
   "outputs": [
    {
     "name": "stdout",
     "output_type": "stream",
     "text": [
      "bruh\n"
     ]
    }
   ],
   "source": [
    "# what we gonna do is take string input convert to tokens convert them to integers from a fixed vocab, use these integers to lookup a lookup table of verctors and feed these vectors into the transformer as inputs"
   ]
  }
 ],
 "metadata": {
  "kernelspec": {
   "display_name": "base",
   "language": "python",
   "name": "python3"
  },
  "language_info": {
   "codemirror_mode": {
    "name": "ipython",
    "version": 3
   },
   "file_extension": ".py",
   "mimetype": "text/x-python",
   "name": "python",
   "nbconvert_exporter": "python",
   "pygments_lexer": "ipython3",
   "version": "3.9.13"
  }
 },
 "nbformat": 4,
 "nbformat_minor": 2
}
